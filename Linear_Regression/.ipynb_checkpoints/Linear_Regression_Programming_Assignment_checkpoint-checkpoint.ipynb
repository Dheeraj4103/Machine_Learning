{
 "cells": [
  {
   "cell_type": "markdown",
   "metadata": {
    "id": "FH4J_hB5NxP8"
   },
   "source": [
    "### Linear Regression Programming Assignment  \n",
    "\n",
    "Hello, welcome to this programming assignment, In this programming assignment, we will be using linear regression to develop an end to end model, so that we can get hands on experience with linear regression, I will be not doing anything, you will be doing everything so that your model should be yours. \n",
    "\n",
    "This assignment is created by **Ayush Singh** Founder of - <a href=\"https://www.youtube.com/channel/UC_sl8H2k4xC9RLqyHsnDkcA\" target=\"_blank\">Newera</a> YT channel, He is a 14 year old Machine learning engineer and a data scientist and also Microsoft Certified Azure Artificial Intelligence Engineer and Microsoft Certified Azure Fundamentals. \n",
    "\n",
    "This programming assignment is a part of my <a href=\"https://www.youtube.com/playlist?list=PLITqwrDNk9XDyoAoVbXKbgRBMJK5NrQcB\" target=\"_blank\">FULL STACK MACHINE LEARNING COURSE</a>\n",
    "\n",
    "The requirements for proceeding with this notebook, is that you should be comfortable with Linear Regression, if you're not check out <a href=\"https://www.youtube.com/watch?v=AMC0yC6mois&list=PLITqwrDNk9XDyoAoVbXKbgRBMJK5NrQcB&index=2&t=9s\" target=\"_blank\">This</a>video, which covers everything you need to mastery linear regression. "
   ]
  },
  {
   "cell_type": "code",
   "execution_count": null,
   "metadata": {
    "id": "a-JbEG7YNxQG"
   },
   "outputs": [],
   "source": [
    "import pandas as pd  \n",
    "import numpy as np  \n",
    "import matplotlib.pyplot as plt  \n",
    "%matplotlib inline \n",
    "\n",
    "from pandas.plotting import scatter_matrix \n",
    "from sklearn.model_selection import train_test_split \n",
    "from sklearn.linear_model import LinearRegression \n",
    "from sklearn.metrics import mean_absolute_error"
   ]
  },
  {
   "cell_type": "markdown",
   "metadata": {
    "id": "JcXVX8hrNxQJ"
   },
   "source": [
    "### About the data  \n",
    "\n",
    "This problem has the following inputs:\n",
    "1. Frequency, in Hertzs.\n",
    "2. Angle of attack, in degrees.\n",
    "3. Chord length, in meters.\n",
    "4. Free-stream velocity, in meters per second.\n",
    "5. Suction side displacement thickness, in meters.\n",
    "\n",
    "The only output is:\n",
    "6. Scaled sound pressure level, in decibels. \n",
    "\n",
    "you have to predict the output with the given inputs."
   ]
  },
  {
   "cell_type": "markdown",
   "metadata": {
    "id": "ZjB3EGcuNxQK"
   },
   "source": [
    "### load the data  \n",
    "Data is in the form of xlsx, you have to read the data from pandas and column name should be \"Frequency\", \"Angle of attack\", \"Chord length\", \"Free-stream velocity\", \"Displacement thickness\", \"Scaled sound pressure level\" respective to the columns, you have to provide these column name when you're loading the data.  \n",
    "\n",
    "**Instructions** \n",
    "\n",
    "- you will have to load the data and store the data in the variable. \n",
    "- After loading, you have to convert the data in the dataframe. \n",
    "\n",
    "**References**  \n",
    "\n",
    "- <a href=\"https://pandas.pydata.org/docs/reference/api/pandas.read_excel.html\" target=\"_blank\">Docs</a>"
   ]
  },
  {
   "cell_type": "code",
   "execution_count": null,
   "metadata": {
    "id": "PHaCmCqNNxQL"
   },
   "outputs": [],
   "source": [
    "data = ### load the data by removing this comment  ###  "
   ]
  },
  {
   "cell_type": "code",
   "execution_count": null,
   "metadata": {
    "id": "Nbe8dFNcNxQM"
   },
   "outputs": [],
   "source": [
    "df = ### convert the data which you've loaded to the dataframe ### "
   ]
  },
  {
   "cell_type": "markdown",
   "metadata": {
    "id": "swNN_frcNxQO"
   },
   "source": [
    "### Explore the data  \n",
    "\n",
    "**Instructions** \n",
    "\n",
    "- you will see the head of the data. \n",
    "- you will see the shape of the data. \n",
    "- you will see the information using .info and .describe  \n",
    "- Check for the missing values present in the data.  \n",
    "- See the relations between the features. Hint [ Use .hist with data ] \n"
   ]
  },
  {
   "cell_type": "code",
   "execution_count": null,
   "metadata": {
    "id": "FMZSWqw7NxQQ"
   },
   "outputs": [],
   "source": [
    "head_of_the_data = #### YOUR CODE HERE ###  "
   ]
  },
  {
   "cell_type": "code",
   "execution_count": null,
   "metadata": {
    "id": "ME1VHQ0gNxQS"
   },
   "outputs": [],
   "source": [
    "shape_of_the_data = ### YOUR CODE HERE ### "
   ]
  },
  {
   "cell_type": "code",
   "execution_count": null,
   "metadata": {
    "id": "EjUEKY5ZNxQT"
   },
   "outputs": [],
   "source": [
    "information_about_the_data_using_info = ### YOUR CODE HERE ### "
   ]
  },
  {
   "cell_type": "code",
   "execution_count": null,
   "metadata": {
    "id": "4YBj-ML0NxQU"
   },
   "outputs": [],
   "source": [
    "information_about_the_data_using_describe = ### YOUR CODE HERE ### "
   ]
  },
  {
   "cell_type": "code",
   "execution_count": null,
   "metadata": {
    "id": "5BAL5TOrNxQV"
   },
   "outputs": [],
   "source": [
    "missing_values = ### YOUR CODE HERE ### "
   ]
  },
  {
   "cell_type": "code",
   "execution_count": null,
   "metadata": {
    "id": "oJ2wPQmCNxQW"
   },
   "outputs": [],
   "source": [
    "features_relations = ### YOUR CODE HERE ### "
   ]
  },
  {
   "cell_type": "markdown",
   "metadata": {
    "id": "t_7xuRqpNxQW"
   },
   "source": [
    "### See the correlations \n",
    "\n",
    "Now, we will make use of .corr() and we will take a look at the correlations with respect to the target variable."
   ]
  },
  {
   "cell_type": "code",
   "execution_count": null,
   "metadata": {
    "id": "wjZVyZymNxQX"
   },
   "outputs": [],
   "source": [
    "corr_matrix = ### YOUR CODE HERE ### \n",
    "corr_matrix[\"Scaled sound pressure level\"].sort_values(ascending=False) "
   ]
  },
  {
   "cell_type": "markdown",
   "metadata": {
    "id": "qZX0OwKhNxQY"
   },
   "source": [
    "The correlation coefficient ranges from –1 to 1. When it is close to 1, it means that there is a strong positive correlation for eg(sound pressure tends to go up when Free-stream velocity increases) and this is opposite for negative correlation with respect to Scaled sound pressure level."
   ]
  },
  {
   "cell_type": "markdown",
   "metadata": {
    "id": "LCy7yc45NxQZ"
   },
   "source": [
    "### Divide the Data "
   ]
  },
  {
   "cell_type": "code",
   "execution_count": null,
   "metadata": {
    "id": "srXUmC59NxQb"
   },
   "outputs": [],
   "source": [
    "X = ### YOUR CODE HERE ### \n",
    "y = ### YOUR CODE HERE ###   "
   ]
  },
  {
   "cell_type": "code",
   "execution_count": null,
   "metadata": {
    "id": "aA_84gEqNxQc"
   },
   "outputs": [],
   "source": [
    "#### use the train_test_split function, with test_size = 0.1, random_state = 0 \n",
    "\n",
    "X_train, X_test, y_train, y_test = train_test_split(### YOUR CODE HERE ###)"
   ]
  },
  {
   "cell_type": "markdown",
   "metadata": {
    "id": "37js5neuNxQd"
   },
   "source": [
    "### Model Development "
   ]
  },
  {
   "cell_type": "code",
   "execution_count": null,
   "metadata": {
    "id": "x2NnGN4mNxQe"
   },
   "outputs": [],
   "source": [
    "#### MAKE AN LINEAR REGRESSION OBJECT AND FIT THE MODEL USING \"X_train\", \"y_train\" \n",
    "\n",
    "### START CODE HERE ### \n",
    "lr = ### YOUR CODE HERE ### \n",
    "### FIT YOUR MODEL HERE ### \n",
    "\n",
    "### END CODE HERE ###"
   ]
  },
  {
   "cell_type": "markdown",
   "metadata": {
    "id": "ADKzq7e2NxQg"
   },
   "source": [
    "### Testing your model "
   ]
  },
  {
   "cell_type": "code",
   "execution_count": null,
   "metadata": {
    "id": "rjJhrHP9NxQh"
   },
   "outputs": [],
   "source": [
    "predictions = YOUR_OBJECT_NAME.predict(X_test) "
   ]
  },
  {
   "cell_type": "code",
   "execution_count": null,
   "metadata": {
    "id": "wxDDiLn7NxQi"
   },
   "outputs": [],
   "source": [
    "mae = mean_absolute_error(pred, y_test)\n",
    "print(\"Mean Absolute Error :\", round(mae, 2))"
   ]
  },
  {
   "cell_type": "markdown",
   "metadata": {
    "id": "_BopmtEoNxQi"
   },
   "source": [
    "### Congratulations for completing this assignment "
   ]
  },
  {
   "cell_type": "markdown",
   "metadata": {
    "id": "HiORgdwlNxQi"
   },
   "source": [
    "### Legal Stuff \n",
    "\n",
    "- You're not allowed to sell this notebook, if attempted, \"Newera\" will take legal action. but i know my viewers that my viewers are very honest.  \n",
    "\n",
    "- This notebook is absolutely free for everyone.\n"
   ]
  }
 ],
 "metadata": {
  "colab": {
   "provenance": []
  },
  "kernelspec": {
   "display_name": "Python 3 (ipykernel)",
   "language": "python",
   "name": "python3"
  },
  "language_info": {
   "codemirror_mode": {
    "name": "ipython",
    "version": 3
   },
   "file_extension": ".py",
   "mimetype": "text/x-python",
   "name": "python",
   "nbconvert_exporter": "python",
   "pygments_lexer": "ipython3",
   "version": "3.10.6"
  }
 },
 "nbformat": 4,
 "nbformat_minor": 1
}
