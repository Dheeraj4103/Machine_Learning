{
 "cells": [
  {
   "cell_type": "code",
   "execution_count": 1,
   "metadata": {},
   "outputs": [],
   "source": [
    "import pandas as pd\n",
    "import numpy as np\n",
    "import numpy.random as rd\n",
    "import seaborn as sns\n",
    "import matplotlib.pyplot as plt\n",
    "%matplotlib inline"
   ]
  },
  {
   "cell_type": "code",
   "execution_count": 2,
   "metadata": {},
   "outputs": [
    {
     "data": {
      "text/html": [
       "<div>\n",
       "<style scoped>\n",
       "    .dataframe tbody tr th:only-of-type {\n",
       "        vertical-align: middle;\n",
       "    }\n",
       "\n",
       "    .dataframe tbody tr th {\n",
       "        vertical-align: top;\n",
       "    }\n",
       "\n",
       "    .dataframe thead th {\n",
       "        text-align: right;\n",
       "    }\n",
       "</style>\n",
       "<table border=\"1\" class=\"dataframe\">\n",
       "  <thead>\n",
       "    <tr style=\"text-align: right;\">\n",
       "      <th></th>\n",
       "    </tr>\n",
       "    <tr>\n",
       "      <th>,\"Ozone\",\"Solar.R\",\"Wind\",\"Temp\",\"Month\",\"Day\"</th>\n",
       "    </tr>\n",
       "  </thead>\n",
       "  <tbody>\n",
       "    <tr>\n",
       "      <th>1,41,190,7.4,67,5,1</th>\n",
       "    </tr>\n",
       "    <tr>\n",
       "      <th>2,36,118,8,72,5,2</th>\n",
       "    </tr>\n",
       "    <tr>\n",
       "      <th>3,12,149,12.6,74,5,3</th>\n",
       "    </tr>\n",
       "    <tr>\n",
       "      <th>4,18,313,11.5,62,5,4</th>\n",
       "    </tr>\n",
       "    <tr>\n",
       "      <th>5,NA,NA,14.3,56,5,5</th>\n",
       "    </tr>\n",
       "    <tr>\n",
       "      <th>...</th>\n",
       "    </tr>\n",
       "    <tr>\n",
       "      <th>149,30,193,6.9,70,9,26</th>\n",
       "    </tr>\n",
       "    <tr>\n",
       "      <th>150,NA,145,13.2,77,9,27</th>\n",
       "    </tr>\n",
       "    <tr>\n",
       "      <th>151,14,191,14.3,75,9,28</th>\n",
       "    </tr>\n",
       "    <tr>\n",
       "      <th>152,18,131,8,76,9,29</th>\n",
       "    </tr>\n",
       "    <tr>\n",
       "      <th>153,20,223,11.5,68,9,30</th>\n",
       "    </tr>\n",
       "  </tbody>\n",
       "</table>\n",
       "<p>153 rows × 0 columns</p>\n",
       "</div>"
      ],
      "text/plain": [
       "Empty DataFrame\n",
       "Columns: []\n",
       "Index: [1,41,190,7.4,67,5,1, 2,36,118,8,72,5,2, 3,12,149,12.6,74,5,3, 4,18,313,11.5,62,5,4, 5,NA,NA,14.3,56,5,5, 6,28,NA,14.9,66,5,6, 7,23,299,8.6,65,5,7, 8,19,99,13.8,59,5,8, 9,8,19,20.1,61,5,9, 10,NA,194,8.6,69,5,10, 11,7,NA,6.9,74,5,11, 12,16,256,9.7,69,5,12, 13,11,290,9.2,66,5,13, 14,14,274,10.9,68,5,14, 15,18,65,13.2,58,5,15, 16,14,334,11.5,64,5,16, 17,34,307,12,66,5,17, 18,6,78,18.4,57,5,18, 19,30,322,11.5,68,5,19, 20,11,44,9.7,62,5,20, 21,1,8,9.7,59,5,21, 22,11,320,16.6,73,5,22, 23,4,25,9.7,61,5,23, 24,32,92,12,61,5,24, 25,NA,66,16.6,57,5,25, 26,NA,266,14.9,58,5,26, 27,NA,NA,8,57,5,27, 28,23,13,12,67,5,28, 29,45,252,14.9,81,5,29, 30,115,223,5.7,79,5,30, 31,37,279,7.4,76,5,31, 32,NA,286,8.6,78,6,1, 33,NA,287,9.7,74,6,2, 34,NA,242,16.1,67,6,3, 35,NA,186,9.2,84,6,4, 36,NA,220,8.6,85,6,5, 37,NA,264,14.3,79,6,6, 38,29,127,9.7,82,6,7, 39,NA,273,6.9,87,6,8, 40,71,291,13.8,90,6,9, 41,39,323,11.5,87,6,10, 42,NA,259,10.9,93,6,11, 43,NA,250,9.2,92,6,12, 44,23,148,8,82,6,13, 45,NA,332,13.8,80,6,14, 46,NA,322,11.5,79,6,15, 47,21,191,14.9,77,6,16, 48,37,284,20.7,72,6,17, 49,20,37,9.2,65,6,18, 50,12,120,11.5,73,6,19, 51,13,137,10.3,76,6,20, 52,NA,150,6.3,77,6,21, 53,NA,59,1.7,76,6,22, 54,NA,91,4.6,76,6,23, 55,NA,250,6.3,76,6,24, 56,NA,135,8,75,6,25, 57,NA,127,8,78,6,26, 58,NA,47,10.3,73,6,27, 59,NA,98,11.5,80,6,28, 60,NA,31,14.9,77,6,29, 61,NA,138,8,83,6,30, 62,135,269,4.1,84,7,1, 63,49,248,9.2,85,7,2, 64,32,236,9.2,81,7,3, 65,NA,101,10.9,84,7,4, 66,64,175,4.6,83,7,5, 67,40,314,10.9,83,7,6, 68,77,276,5.1,88,7,7, 69,97,267,6.3,92,7,8, 70,97,272,5.7,92,7,9, 71,85,175,7.4,89,7,10, 72,NA,139,8.6,82,7,11, 73,10,264,14.3,73,7,12, 74,27,175,14.9,81,7,13, 75,NA,291,14.9,91,7,14, 76,7,48,14.3,80,7,15, 77,48,260,6.9,81,7,16, 78,35,274,10.3,82,7,17, 79,61,285,6.3,84,7,18, 80,79,187,5.1,87,7,19, 81,63,220,11.5,85,7,20, 82,16,7,6.9,74,7,21, 83,NA,258,9.7,81,7,22, 84,NA,295,11.5,82,7,23, 85,80,294,8.6,86,7,24, 86,108,223,8,85,7,25, 87,20,81,8.6,82,7,26, 88,52,82,12,86,7,27, 89,82,213,7.4,88,7,28, 90,50,275,7.4,86,7,29, 91,64,253,7.4,83,7,30, 92,59,254,9.2,81,7,31, 93,39,83,6.9,81,8,1, 94,9,24,13.8,81,8,2, 95,16,77,7.4,82,8,3, 96,78,NA,6.9,86,8,4, 97,35,NA,7.4,85,8,5, 98,66,NA,4.6,87,8,6, 99,122,255,4,89,8,7, 100,89,229,10.3,90,8,8, ...]\n",
       "\n",
       "[153 rows x 0 columns]"
      ]
     },
     "execution_count": 2,
     "metadata": {},
     "output_type": "execute_result"
    }
   ],
   "source": [
    "df=pd.read_csv('airquality.csv',index_col=0)\n",
    "df"
   ]
  },
  {
   "cell_type": "code",
   "execution_count": 3,
   "metadata": {},
   "outputs": [
    {
     "data": {
      "text/plain": [
       "Series([], dtype: float64)"
      ]
     },
     "execution_count": 3,
     "metadata": {},
     "output_type": "execute_result"
    }
   ],
   "source": [
    "df.isnull().sum()"
   ]
  },
  {
   "cell_type": "code",
   "execution_count": 4,
   "metadata": {},
   "outputs": [
    {
     "data": {
      "text/plain": [
       "Series([], dtype: float64)"
      ]
     },
     "execution_count": 4,
     "metadata": {},
     "output_type": "execute_result"
    }
   ],
   "source": [
    "mean=df.mean()\n",
    "mean"
   ]
  },
  {
   "cell_type": "code",
   "execution_count": 5,
   "metadata": {},
   "outputs": [
    {
     "ename": "KeyError",
     "evalue": "'Ozone'",
     "output_type": "error",
     "traceback": [
      "\u001b[1;31m---------------------------------------------------------------------------\u001b[0m",
      "\u001b[1;31mKeyError\u001b[0m                                  Traceback (most recent call last)",
      "File \u001b[1;32m~\\AppData\\Local\\Programs\\Python\\Python310\\lib\\site-packages\\pandas\\core\\indexes\\base.py:3621\u001b[0m, in \u001b[0;36mIndex.get_loc\u001b[1;34m(self, key, method, tolerance)\u001b[0m\n\u001b[0;32m   3620\u001b[0m \u001b[38;5;28;01mtry\u001b[39;00m:\n\u001b[1;32m-> 3621\u001b[0m     \u001b[38;5;28;01mreturn\u001b[39;00m \u001b[38;5;28;43mself\u001b[39;49m\u001b[38;5;241;43m.\u001b[39;49m\u001b[43m_engine\u001b[49m\u001b[38;5;241;43m.\u001b[39;49m\u001b[43mget_loc\u001b[49m\u001b[43m(\u001b[49m\u001b[43mcasted_key\u001b[49m\u001b[43m)\u001b[49m\n\u001b[0;32m   3622\u001b[0m \u001b[38;5;28;01mexcept\u001b[39;00m \u001b[38;5;167;01mKeyError\u001b[39;00m \u001b[38;5;28;01mas\u001b[39;00m err:\n",
      "File \u001b[1;32m~\\AppData\\Local\\Programs\\Python\\Python310\\lib\\site-packages\\pandas\\_libs\\index.pyx:136\u001b[0m, in \u001b[0;36mpandas._libs.index.IndexEngine.get_loc\u001b[1;34m()\u001b[0m\n",
      "File \u001b[1;32m~\\AppData\\Local\\Programs\\Python\\Python310\\lib\\site-packages\\pandas\\_libs\\index.pyx:163\u001b[0m, in \u001b[0;36mpandas._libs.index.IndexEngine.get_loc\u001b[1;34m()\u001b[0m\n",
      "File \u001b[1;32mpandas\\_libs\\hashtable_class_helper.pxi:5198\u001b[0m, in \u001b[0;36mpandas._libs.hashtable.PyObjectHashTable.get_item\u001b[1;34m()\u001b[0m\n",
      "File \u001b[1;32mpandas\\_libs\\hashtable_class_helper.pxi:5206\u001b[0m, in \u001b[0;36mpandas._libs.hashtable.PyObjectHashTable.get_item\u001b[1;34m()\u001b[0m\n",
      "\u001b[1;31mKeyError\u001b[0m: 'Ozone'",
      "\nThe above exception was the direct cause of the following exception:\n",
      "\u001b[1;31mKeyError\u001b[0m                                  Traceback (most recent call last)",
      "Cell \u001b[1;32mIn [5], line 1\u001b[0m\n\u001b[1;32m----> 1\u001b[0m mean_Ozone\u001b[38;5;241m=\u001b[39m\u001b[43mdf\u001b[49m\u001b[43m[\u001b[49m\u001b[38;5;124;43m'\u001b[39;49m\u001b[38;5;124;43mOzone\u001b[39;49m\u001b[38;5;124;43m'\u001b[39;49m\u001b[43m]\u001b[49m\u001b[38;5;241m.\u001b[39mmean()\n\u001b[0;32m      2\u001b[0m mean_Ozone\n",
      "File \u001b[1;32m~\\AppData\\Local\\Programs\\Python\\Python310\\lib\\site-packages\\pandas\\core\\frame.py:3505\u001b[0m, in \u001b[0;36mDataFrame.__getitem__\u001b[1;34m(self, key)\u001b[0m\n\u001b[0;32m   3503\u001b[0m \u001b[38;5;28;01mif\u001b[39;00m \u001b[38;5;28mself\u001b[39m\u001b[38;5;241m.\u001b[39mcolumns\u001b[38;5;241m.\u001b[39mnlevels \u001b[38;5;241m>\u001b[39m \u001b[38;5;241m1\u001b[39m:\n\u001b[0;32m   3504\u001b[0m     \u001b[38;5;28;01mreturn\u001b[39;00m \u001b[38;5;28mself\u001b[39m\u001b[38;5;241m.\u001b[39m_getitem_multilevel(key)\n\u001b[1;32m-> 3505\u001b[0m indexer \u001b[38;5;241m=\u001b[39m \u001b[38;5;28;43mself\u001b[39;49m\u001b[38;5;241;43m.\u001b[39;49m\u001b[43mcolumns\u001b[49m\u001b[38;5;241;43m.\u001b[39;49m\u001b[43mget_loc\u001b[49m\u001b[43m(\u001b[49m\u001b[43mkey\u001b[49m\u001b[43m)\u001b[49m\n\u001b[0;32m   3506\u001b[0m \u001b[38;5;28;01mif\u001b[39;00m is_integer(indexer):\n\u001b[0;32m   3507\u001b[0m     indexer \u001b[38;5;241m=\u001b[39m [indexer]\n",
      "File \u001b[1;32m~\\AppData\\Local\\Programs\\Python\\Python310\\lib\\site-packages\\pandas\\core\\indexes\\base.py:3623\u001b[0m, in \u001b[0;36mIndex.get_loc\u001b[1;34m(self, key, method, tolerance)\u001b[0m\n\u001b[0;32m   3621\u001b[0m     \u001b[38;5;28;01mreturn\u001b[39;00m \u001b[38;5;28mself\u001b[39m\u001b[38;5;241m.\u001b[39m_engine\u001b[38;5;241m.\u001b[39mget_loc(casted_key)\n\u001b[0;32m   3622\u001b[0m \u001b[38;5;28;01mexcept\u001b[39;00m \u001b[38;5;167;01mKeyError\u001b[39;00m \u001b[38;5;28;01mas\u001b[39;00m err:\n\u001b[1;32m-> 3623\u001b[0m     \u001b[38;5;28;01mraise\u001b[39;00m \u001b[38;5;167;01mKeyError\u001b[39;00m(key) \u001b[38;5;28;01mfrom\u001b[39;00m \u001b[38;5;21;01merr\u001b[39;00m\n\u001b[0;32m   3624\u001b[0m \u001b[38;5;28;01mexcept\u001b[39;00m \u001b[38;5;167;01mTypeError\u001b[39;00m:\n\u001b[0;32m   3625\u001b[0m     \u001b[38;5;66;03m# If we have a listlike key, _check_indexing_error will raise\u001b[39;00m\n\u001b[0;32m   3626\u001b[0m     \u001b[38;5;66;03m#  InvalidIndexError. Otherwise we fall through and re-raise\u001b[39;00m\n\u001b[0;32m   3627\u001b[0m     \u001b[38;5;66;03m#  the TypeError.\u001b[39;00m\n\u001b[0;32m   3628\u001b[0m     \u001b[38;5;28mself\u001b[39m\u001b[38;5;241m.\u001b[39m_check_indexing_error(key)\n",
      "\u001b[1;31mKeyError\u001b[0m: 'Ozone'"
     ]
    }
   ],
   "source": [
    "mean_Ozone=df['Ozone'].mean()\n",
    "mean_Ozone"
   ]
  },
  {
   "cell_type": "code",
   "execution_count": null,
   "metadata": {},
   "outputs": [],
   "source": [
    "df2=df['Ozone'].replace(np.nan,mean_Ozone)\n",
    "df2"
   ]
  },
  {
   "cell_type": "code",
   "execution_count": null,
   "metadata": {},
   "outputs": [],
   "source": [
    "\n",
    "df2=df.replace(np.nan,mean)\n",
    "df2"
   ]
  },
  {
   "cell_type": "code",
   "execution_count": null,
   "metadata": {},
   "outputs": [],
   "source": [
    "\n",
    "sns.lineplot(data=df2,x='Temp',y='Ozone')"
   ]
  },
  {
   "cell_type": "code",
   "execution_count": null,
   "metadata": {},
   "outputs": [],
   "source": [
    "#sns.lineplot(data=df, x=\"Temp\", y=\"Day\", hue=\"Month\")\n",
    "sns.scatterplot(data=df2,x=\"Temp\",y=\"Day\",hue=\"Month\")"
   ]
  },
  {
   "cell_type": "code",
   "execution_count": null,
   "metadata": {},
   "outputs": [],
   "source": [
    "X=df2[['Temp']]\n",
    "y=df2[['Ozone']]\n",
    "X,y\n"
   ]
  },
  {
   "cell_type": "code",
   "execution_count": null,
   "metadata": {},
   "outputs": [],
   "source": [
    "from sklearn.model_selection import train_test_split\n",
    "X_train,X_test,y_train,y_test=train_test_split(X,y,test_size=0.2,random_state=0)\n"
   ]
  },
  {
   "cell_type": "code",
   "execution_count": null,
   "metadata": {},
   "outputs": [],
   "source": [
    "X_train"
   ]
  },
  {
   "cell_type": "code",
   "execution_count": null,
   "metadata": {},
   "outputs": [],
   "source": [
    "X_test"
   ]
  },
  {
   "cell_type": "code",
   "execution_count": null,
   "metadata": {},
   "outputs": [],
   "source": [
    "y_train"
   ]
  },
  {
   "cell_type": "code",
   "execution_count": null,
   "metadata": {},
   "outputs": [],
   "source": [
    "y_test"
   ]
  },
  {
   "cell_type": "code",
   "execution_count": null,
   "metadata": {},
   "outputs": [],
   "source": [
    "from sklearn.linear_model import LinearRegression\n",
    "regressor=LinearRegression()\n",
    "regressor.fit(X_train,y_train)"
   ]
  },
  {
   "cell_type": "code",
   "execution_count": null,
   "metadata": {},
   "outputs": [],
   "source": [
    "y_predict=regressor.predict(X_test)\n",
    "y_predict"
   ]
  },
  {
   "cell_type": "code",
   "execution_count": null,
   "metadata": {},
   "outputs": [],
   "source": [
    "plt.scatter(X_train, y_train,color='g') \n",
    "\n",
    "plt.plot(X_test, y_predict,color='k') "
   ]
  },
  {
   "cell_type": "code",
   "execution_count": null,
   "metadata": {},
   "outputs": [],
   "source": [
    "from sklearn.metrics import mean_squared_error\n",
    "MSE=mean_squared_error(y_test,y_predict)\n",
    "MSE"
   ]
  },
  {
   "cell_type": "code",
   "execution_count": null,
   "metadata": {},
   "outputs": [],
   "source": [
    "from sklearn.metrics import mean_squared_error\n",
    "RMSE=mean_squared_error(y_test,y_predict,squared=False)\n",
    "RMSE"
   ]
  },
  {
   "cell_type": "code",
   "execution_count": null,
   "metadata": {},
   "outputs": [],
   "source": [
    "import sklearn.metrics as met\n",
    "r2score=met.r2_score(y_test,y_predict)\n",
    "r2score"
   ]
  },
  {
   "cell_type": "code",
   "execution_count": null,
   "metadata": {},
   "outputs": [],
   "source": [
    "X2=df2[[\"Temp\",\"Solar.R\",\"Wind\"]]\n",
    "y2=df2[[\"Ozone\"]]\n",
    "X2\n"
   ]
  },
  {
   "cell_type": "code",
   "execution_count": null,
   "metadata": {},
   "outputs": [],
   "source": [
    "y2"
   ]
  },
  {
   "cell_type": "code",
   "execution_count": null,
   "metadata": {},
   "outputs": [],
   "source": [
    "X2.shape"
   ]
  },
  {
   "cell_type": "code",
   "execution_count": null,
   "metadata": {},
   "outputs": [],
   "source": [
    "\n",
    "X2_train,X2_test,y2_train,y2_test=train_test_split(X2,y2,test_size=0.2,random_state=0)"
   ]
  },
  {
   "cell_type": "code",
   "execution_count": null,
   "metadata": {},
   "outputs": [],
   "source": [
    "y2.shape"
   ]
  },
  {
   "cell_type": "code",
   "execution_count": null,
   "metadata": {},
   "outputs": [],
   "source": [
    "X2_train"
   ]
  },
  {
   "cell_type": "code",
   "execution_count": null,
   "metadata": {},
   "outputs": [],
   "source": [
    "X2_test"
   ]
  },
  {
   "cell_type": "code",
   "execution_count": null,
   "metadata": {},
   "outputs": [],
   "source": [
    "y2_train"
   ]
  },
  {
   "cell_type": "code",
   "execution_count": null,
   "metadata": {},
   "outputs": [],
   "source": [
    "y2_test"
   ]
  },
  {
   "cell_type": "code",
   "execution_count": null,
   "metadata": {},
   "outputs": [],
   "source": [
    "regressor2=LinearRegression()\n",
    "regressor2.fit(X2_train,y2_train)"
   ]
  },
  {
   "cell_type": "code",
   "execution_count": null,
   "metadata": {},
   "outputs": [],
   "source": [
    "y2_predict=regressor.predict(X_test)\n",
    "y2_predict"
   ]
  },
  {
   "cell_type": "code",
   "execution_count": null,
   "metadata": {},
   "outputs": [],
   "source": [
    "plt.scatter(X2_train[\"Temp\"],y2_train,color='g') \n",
    "\n",
    "plt.plot(X2_test[\"Temp\"],y2_predict,color='k') "
   ]
  },
  {
   "cell_type": "code",
   "execution_count": null,
   "metadata": {},
   "outputs": [],
   "source": [
    "plt.scatter(X2_train[\"Solar.R\"],y2_train,color='g') \n",
    "\n",
    "plt.plot(X2_test[\"Solar.R\"],y2_predict,color='k') "
   ]
  },
  {
   "cell_type": "code",
   "execution_count": null,
   "metadata": {},
   "outputs": [],
   "source": [
    "plt.scatter(X2_train[\"Wind\"],y2_train,color='g') \n",
    "\n",
    "plt.plot(X2_test[\"Wind\"],y2_predict,color='k') \n"
   ]
  },
  {
   "cell_type": "code",
   "execution_count": null,
   "metadata": {},
   "outputs": [],
   "source": [
    "MSE2=mean_squared_error(y2_test,y2_predict)\n",
    "MSE2"
   ]
  },
  {
   "cell_type": "code",
   "execution_count": null,
   "metadata": {},
   "outputs": [],
   "source": [
    "RMSE2=mean_squared_error(y2_test,y2_predict,squared=False)\n",
    "RMSE2"
   ]
  },
  {
   "cell_type": "code",
   "execution_count": null,
   "metadata": {},
   "outputs": [],
   "source": [
    "r2score2=met.r2_score(y_test,y_predict)\n",
    "r2score2"
   ]
  },
  {
   "cell_type": "code",
   "execution_count": null,
   "metadata": {},
   "outputs": [],
   "source": []
  }
 ],
 "metadata": {
  "kernelspec": {
   "display_name": "Python 3 (ipykernel)",
   "language": "python",
   "name": "python3"
  },
  "language_info": {
   "codemirror_mode": {
    "name": "ipython",
    "version": 3
   },
   "file_extension": ".py",
   "mimetype": "text/x-python",
   "name": "python",
   "nbconvert_exporter": "python",
   "pygments_lexer": "ipython3",
   "version": "3.10.2"
  }
 },
 "nbformat": 4,
 "nbformat_minor": 4
}
