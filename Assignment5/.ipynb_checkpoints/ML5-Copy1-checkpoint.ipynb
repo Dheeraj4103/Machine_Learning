{
 "cells": [
  {
   "cell_type": "code",
   "execution_count": null,
   "id": "dd1e4d48",
   "metadata": {},
   "outputs": [],
   "source": [
    "import pandas as pd\n",
    "import numpy as np\n",
    "import matplotlib.pyplot as plt\n",
    "from apyori import apriori\n",
    "import numpy as np"
   ]
  },
  {
   "cell_type": "code",
   "execution_count": null,
   "id": "058ba12c",
   "metadata": {},
   "outputs": [],
   "source": [
    "df = pd.read_csv('Market_Basket_Optimisation.csv',header=None)"
   ]
  },
  {
   "cell_type": "code",
   "execution_count": null,
   "id": "ed91116a",
   "metadata": {},
   "outputs": [],
   "source": [
    "df"
   ]
  },
  {
   "cell_type": "code",
   "execution_count": null,
   "id": "4fcbaa7f",
   "metadata": {},
   "outputs": [],
   "source": [
    "\n",
    "df[0].value_counts()"
   ]
  },
  {
   "cell_type": "code",
   "execution_count": null,
   "id": "e5f0fa72",
   "metadata": {},
   "outputs": [],
   "source": [
    "df[0].value_counts().plot.bar(figsize=(20,20))\n",
    "plt.title('Frequency of most popular items',fontsize=20)\n",
    "plt.show()"
   ]
  },
  {
   "cell_type": "code",
   "execution_count": null,
   "id": "ffb8228f",
   "metadata": {},
   "outputs": [],
   "source": [
    "transactions = []\n",
    "for i in range(len(df)):\n",
    "    transactions.append([str(df.values[i,j]) for j in range(0, 20) if str(df.values[i,j])!='nan'])\n",
    "transactions"
   ]
  },
  {
   "cell_type": "code",
   "execution_count": null,
   "id": "4e462d81",
   "metadata": {},
   "outputs": [],
   "source": [
    "rules = apriori(transactions,min_support=0.003,min_confidence=0.01,min_lift=3,min_length=2)\n",
    "values = list(rules)\n",
    "values"
   ]
  },
  {
   "cell_type": "code",
   "execution_count": null,
   "id": "b32d1e12",
   "metadata": {},
   "outputs": [],
   "source": [
    "rules = []\n",
    "for item in values:\n",
    "    pair = item[0]\n",
    "    items = [x for x in pair]\n",
    "    rules.append([str(items[0]+\" -> \" + items[1]),str(item[1]),str(item[2][0][2]),str(item[2][0][3])])\n",
    "rules"
   ]
  },
  {
   "cell_type": "code",
   "execution_count": null,
   "id": "0eefbb6f",
   "metadata": {},
   "outputs": [],
   "source": [
    "table = pd.DataFrame(rules,columns=['Rule','Support','Confidence','Lift'])"
   ]
  },
  {
   "cell_type": "code",
   "execution_count": null,
   "id": "6a7d6949",
   "metadata": {},
   "outputs": [],
   "source": [
    "table"
   ]
  },
  {
   "cell_type": "code",
   "execution_count": null,
   "id": "593b7b7e",
   "metadata": {},
   "outputs": [],
   "source": [
    "table.sort_values(by=['Support'],ascending=False)"
   ]
  },
  {
   "cell_type": "code",
   "execution_count": null,
   "id": "d369593c",
   "metadata": {},
   "outputs": [],
   "source": [
    "table.sort_values(by=['Confidence'],ascending=False)"
   ]
  },
  {
   "cell_type": "code",
   "execution_count": null,
   "id": "455fe4fd",
   "metadata": {},
   "outputs": [],
   "source": [
    "table.sort_values(by=['Lift'],ascending=False)"
   ]
  },
  {
   "cell_type": "code",
   "execution_count": null,
   "id": "d997aa31",
   "metadata": {},
   "outputs": [],
   "source": []
  }
 ],
 "metadata": {
  "kernelspec": {
   "display_name": "Python 3 (ipykernel)",
   "language": "python",
   "name": "python3"
  },
  "language_info": {
   "codemirror_mode": {
    "name": "ipython",
    "version": 3
   },
   "file_extension": ".py",
   "mimetype": "text/x-python",
   "name": "python",
   "nbconvert_exporter": "python",
   "pygments_lexer": "ipython3",
   "version": "3.10.2"
  }
 },
 "nbformat": 4,
 "nbformat_minor": 5
}
