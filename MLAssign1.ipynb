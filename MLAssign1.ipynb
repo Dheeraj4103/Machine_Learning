{
 "cells": [
  {
   "cell_type": "code",
   "execution_count": 13,
   "metadata": {
    "colab": {
     "base_uri": "https://localhost:8080/"
    },
    "executionInfo": {
     "elapsed": 1070,
     "status": "ok",
     "timestamp": 1662468641892,
     "user": {
      "displayName": "Harsh Ekbote",
      "userId": "12267371791678628924"
     },
     "user_tz": -330
    },
    "id": "sUL6q0yFvyyn",
    "outputId": "8f9e3822-7408-4f10-e999-16bc47c4278a"
   },
   "outputs": [
    {
     "name": "stdout",
     "output_type": "stream",
     "text": [
      "   Unnamed: 0  Age  Sex     ChestPain  RestBP  Chol  Fbs  RestECG  MaxHR  \\\n",
      "0           1   63    1       typical     145   233    1        2    150   \n",
      "1           2   67    1  asymptomatic     160   286    0        2    108   \n",
      "2           3   67    1  asymptomatic     120   229    0        2    129   \n",
      "3           4   37    1    nonanginal     130   250    0        0    187   \n",
      "4           5   41    0    nontypical     130   204    0        2    172   \n",
      "\n",
      "   ExAng  Oldpeak  Slope   Ca        Thal  AHD  \n",
      "0      0      2.3      3  0.0       fixed   No  \n",
      "1      1      1.5      2  3.0      normal  Yes  \n",
      "2      1      2.6      2  2.0  reversable  Yes  \n",
      "3      0      3.5      3  0.0      normal   No  \n",
      "4      0      1.4      1  0.0      normal   No  \n",
      "\n"
     ]
    }
   ],
   "source": [
    "import pandas as pd\n",
    "import numpy as np\n",
    "import numpy.random as rd\n",
    "from sklearn.model_selection import train_test_split\n",
    "df=pd.read_csv('heart.csv')\n",
    "print(df.head())\n",
    "print()"
   ]
  },
  {
   "cell_type": "code",
   "execution_count": 15,
   "metadata": {
    "colab": {
     "base_uri": "https://localhost:8080/"
    },
    "executionInfo": {
     "elapsed": 387,
     "status": "ok",
     "timestamp": 1662468647315,
     "user": {
      "displayName": "Harsh Ekbote",
      "userId": "12267371791678628924"
     },
     "user_tz": -330
    },
    "id": "NPIo8f9_wKeL",
    "outputId": "8d2512e9-5690-45d5-af34-3f2f56770e37"
   },
   "outputs": [
    {
     "name": "stdout",
     "output_type": "stream",
     "text": [
      "Shape:(303, 15)\n"
     ]
    }
   ],
   "source": [
    "#Find Shape\n",
    "print(f'Shape:{df.shape}')"
   ]
  },
  {
   "cell_type": "code",
   "execution_count": 31,
   "metadata": {
    "colab": {
     "base_uri": "https://localhost:8080/"
    },
    "executionInfo": {
     "elapsed": 4,
     "status": "ok",
     "timestamp": 1662468650529,
     "user": {
      "displayName": "Harsh Ekbote",
      "userId": "12267371791678628924"
     },
     "user_tz": -330
    },
    "id": "Xv5i0AVXwKrU",
    "outputId": "6d2ccf78-3425-4048-edbe-bbca7e323007"
   },
   "outputs": [
    {
     "name": "stdout",
     "output_type": "stream",
     "text": [
      "\n",
      "missing Value in Column Unnamed: 0 :0\n",
      "\n",
      "missing Value in Column Age :0\n",
      "\n",
      "missing Value in Column Sex :0\n",
      "\n",
      "missing Value in Column ChestPain :0\n",
      "\n",
      "missing Value in Column RestBP :0\n",
      "\n",
      "missing Value in Column Chol :0\n",
      "\n",
      "missing Value in Column Fbs :0\n",
      "\n",
      "missing Value in Column RestECG :0\n",
      "\n",
      "missing Value in Column MaxHR :0\n",
      "\n",
      "missing Value in Column ExAng :0\n",
      "\n",
      "missing Value in Column Oldpeak :0\n",
      "\n",
      "missing Value in Column Slope :0\n",
      "\n",
      "missing Value in Column Ca :4\n",
      "\n",
      "missing Value in Column Thal :2\n",
      "\n",
      "missing Value in Column AHD :0\n"
     ]
    }
   ],
   "source": [
    "#Missing Values\n",
    "for i in df:\n",
    "\tnull=df[i].isna().sum()\n",
    "\tprint(f'\\nmissing Value in Column {i} :{null}')"
   ]
  },
  {
   "cell_type": "code",
   "execution_count": 17,
   "metadata": {
    "colab": {
     "base_uri": "https://localhost:8080/"
    },
    "executionInfo": {
     "elapsed": 468,
     "status": "ok",
     "timestamp": 1662468655404,
     "user": {
      "displayName": "Harsh Ekbote",
      "userId": "12267371791678628924"
     },
     "user_tz": -330
    },
    "id": "z_betWc_wP1a",
    "outputId": "9cdacf44-eb0a-41b1-b4b6-fb9567d805e5"
   },
   "outputs": [
    {
     "name": "stdout",
     "output_type": "stream",
     "text": [
      "\n",
      "Datatypes of Column:\n",
      "Unnamed: 0      int64\n",
      "Age             int64\n",
      "Sex             int64\n",
      "ChestPain      object\n",
      "RestBP          int64\n",
      "Chol            int64\n",
      "Fbs             int64\n",
      "RestECG         int64\n",
      "MaxHR           int64\n",
      "ExAng           int64\n",
      "Oldpeak       float64\n",
      "Slope           int64\n",
      "Ca            float64\n",
      "Thal           object\n",
      "AHD            object\n",
      "dtype: object\n"
     ]
    }
   ],
   "source": [
    "#datatype of Column\n",
    "datatype=df.dtypes\n",
    "print(f'\\nDatatypes of Column:\\n{datatype}')"
   ]
  },
  {
   "cell_type": "code",
   "execution_count": 22,
   "metadata": {
    "colab": {
     "base_uri": "https://localhost:8080/"
    },
    "executionInfo": {
     "elapsed": 383,
     "status": "ok",
     "timestamp": 1662468658984,
     "user": {
      "displayName": "Harsh Ekbote",
      "userId": "12267371791678628924"
     },
     "user_tz": -330
    },
    "id": "YeRMhFW6wQBy",
    "outputId": "a29ebe75-a350-4e89-adfe-57326ad2b9b3"
   },
   "outputs": [
    {
     "name": "stdout",
     "output_type": "stream",
     "text": [
      "\n",
      "Number of zeros in column Fbs is :258\n",
      "\n",
      "Number of zeros in column restECG is :151\n",
      "\n",
      "Number of zeros in column ExAng is :204\n",
      "\n",
      "Number of zeros in column Ca is :176\n",
      "\n",
      "Number of zeros in column oldpeak is :99\n",
      "\n",
      "Number of zeros in column Slope is :0\n"
     ]
    }
   ],
   "source": [
    "#number of Zeros in column\n",
    "col1=df['Fbs'].value_counts()[0]\n",
    "print(f'\\nNumber of zeros in column Fbs is :{col1}')\n",
    "col2=df['RestECG'].value_counts()[0]\n",
    "print(f'\\nNumber of zeros in column restECG is :{col2}')\n",
    "col3=df['ExAng'].value_counts()[0]\n",
    "print(f'\\nNumber of zeros in column ExAng is :{col3}')\n",
    "col4=df['Ca'].value_counts()[0]\n",
    "print(f'\\nNumber of zeros in column Ca is :{col4}')\n",
    "col5=df['Oldpeak'].value_counts()[0]\n",
    "print(f'\\nNumber of zeros in column oldpeak is :{col5}')\n",
    "col=df['Slope']\n",
    "col6=col[col==0].count()\n",
    "print(f'\\nNumber of zeros in column Slope is :{col6}')"
   ]
  },
  {
   "cell_type": "code",
   "execution_count": 23,
   "metadata": {
    "colab": {
     "base_uri": "https://localhost:8080/"
    },
    "executionInfo": {
     "elapsed": 394,
     "status": "ok",
     "timestamp": 1662468662976,
     "user": {
      "displayName": "Harsh Ekbote",
      "userId": "12267371791678628924"
     },
     "user_tz": -330
    },
    "id": "ZfPa_jTzwQLW",
    "outputId": "9360819e-bb76-48d2-f9b4-ef59d17065c5"
   },
   "outputs": [
    {
     "name": "stdout",
     "output_type": "stream",
     "text": [
      "\n",
      "Mean of Age:54.43894389438944\n",
      "\n"
     ]
    }
   ],
   "source": [
    "#Mean age of patients\n",
    "mean=df['Age'].mean()\n",
    "print(f'\\nMean of Age:{mean}\\n')\n"
   ]
  },
  {
   "cell_type": "code",
   "execution_count": 28,
   "metadata": {
    "colab": {
     "base_uri": "https://localhost:8080/"
    },
    "executionInfo": {
     "elapsed": 418,
     "status": "ok",
     "timestamp": 1662469015157,
     "user": {
      "displayName": "Harsh Ekbote",
      "userId": "12267371791678628924"
     },
     "user_tz": -330
    },
    "id": "7MFQadn_21mG",
    "outputId": "e56ed211-9ed7-4877-88ac-56909d093100"
   },
   "outputs": [
    {
     "name": "stdout",
     "output_type": "stream",
     "text": [
      "\n",
      "Dataset df \n",
      "\n",
      "Int64Index([148, 240, 237, 189,  10, 179, 192,  72, 182, 142,\n",
      "            ...\n",
      "            299,  68,  42, 249,  35, 273,  28, 121,  95, 191],\n",
      "           dtype='int64', length=227)\n",
      "     Unnamed: 0  Age  Sex     ChestPain  RestBP  Chol  Fbs  RestECG  MaxHR  \\\n",
      "148         149   45    1    nontypical     128   308    0        2    170   \n",
      "240         241   41    1    nontypical     110   235    0        0    153   \n",
      "237         238   46    1  asymptomatic     120   249    0        2    144   \n",
      "189         190   69    1    nonanginal     140   254    0        2    146   \n",
      "10           11   57    1  asymptomatic     140   192    0        0    148   \n",
      "..          ...  ...  ...           ...     ...   ...  ...      ...    ...   \n",
      "273         274   71    0  asymptomatic     112   149    0        0    125   \n",
      "28           29   43    1  asymptomatic     150   247    0        0    171   \n",
      "121         122   63    0  asymptomatic     150   407    0        2    154   \n",
      "95           96   52    1  asymptomatic     128   255    0        0    161   \n",
      "191         192   51    1  asymptomatic     140   298    0        0    122   \n",
      "\n",
      "     ExAng  Oldpeak  Slope   Ca        Thal  AHD  \n",
      "148      0      0.0      1  0.0      normal   No  \n",
      "240      0      0.0      1  0.0      normal   No  \n",
      "237      0      0.8      1  0.0  reversable  Yes  \n",
      "189      0      2.0      2  3.0  reversable  Yes  \n",
      "10       0      0.4      2  0.0       fixed   No  \n",
      "..     ...      ...    ...  ...         ...  ...  \n",
      "273      0      1.6      2  0.0      normal   No  \n",
      "28       0      1.5      1  0.0      normal   No  \n",
      "121      0      4.0      2  3.0  reversable  Yes  \n",
      "95       1      0.0      1  1.0  reversable  Yes  \n",
      "191      1      4.2      2  3.0  reversable  Yes  \n",
      "\n",
      "[227 rows x 15 columns]\n",
      "     Unnamed: 0  Age  Sex     ChestPain  RestBP  Chol  Fbs  RestECG  MaxHR  \\\n",
      "1             2   67    1  asymptomatic     160   286    0        2    108   \n",
      "7             8   57    0  asymptomatic     120   354    0        0    163   \n",
      "8             9   63    1  asymptomatic     130   254    0        2    147   \n",
      "12           13   56    1    nonanginal     130   256    1        2    142   \n",
      "19           20   49    1    nontypical     130   266    0        0    171   \n",
      "..          ...  ...  ...           ...     ...   ...  ...      ...    ...   \n",
      "290         291   67    1    nonanginal     152   212    0        2    150   \n",
      "291         292   55    0    nontypical     132   342    0        0    166   \n",
      "296         297   59    1  asymptomatic     164   176    1        2     90   \n",
      "297         298   57    0  asymptomatic     140   241    0        0    123   \n",
      "298         299   45    1       typical     110   264    0        0    132   \n",
      "\n",
      "     ExAng  Oldpeak  Slope   Ca        Thal  AHD  \n",
      "1        1      1.5      2  3.0      normal  Yes  \n",
      "7        1      0.6      1  0.0      normal   No  \n",
      "8        0      1.4      2  1.0  reversable  Yes  \n",
      "12       1      0.6      2  1.0       fixed  Yes  \n",
      "19       0      0.6      1  0.0      normal   No  \n",
      "..     ...      ...    ...  ...         ...  ...  \n",
      "290      0      0.8      2  0.0  reversable  Yes  \n",
      "291      0      1.2      1  0.0      normal   No  \n",
      "296      0      1.0      2  2.0       fixed  Yes  \n",
      "297      1      0.2      2  0.0  reversable  Yes  \n",
      "298      0      1.2      2  0.0  reversable  Yes  \n",
      "\n",
      "[76 rows x 15 columns]\n"
     ]
    }
   ],
   "source": [
    "#Divide dataset in 75% and 25% randomly\n",
    "print(\"\\nDataset df \\n\")\n",
    "train1=df.sample(frac=0.75)\n",
    "print(train1.index)\n",
    "test1=df.drop(train1.index)\n",
    "print(train1)\n",
    "print(test1)\n"
   ]
  },
  {
   "cell_type": "code",
   "execution_count": 29,
   "metadata": {
    "colab": {
     "base_uri": "https://localhost:8080/"
    },
    "executionInfo": {
     "elapsed": 375,
     "status": "ok",
     "timestamp": 1662469021022,
     "user": {
      "displayName": "Harsh Ekbote",
      "userId": "12267371791678628924"
     },
     "user_tz": -330
    },
    "id": "we4zlAuO21o5",
    "outputId": "99204c15-af37-44e1-ed37-dbe82968bded"
   },
   "outputs": [
    {
     "name": "stdout",
     "output_type": "stream",
     "text": [
      "\n",
      "Set 1\n",
      "    Age  Sex     ChestPain  RestBP  Chol\n",
      "0   63    1       typical     145   233\n",
      "1   67    1  asymptomatic     160   286\n",
      "2   67    1  asymptomatic     120   229\n",
      "3   37    1    nonanginal     130   250\n",
      "4   41    0    nontypical     130   204\n"
     ]
    }
   ],
   "source": [
    "#df contain columns [age,sex,chestpain,restbp,chol]\n",
    "set1=df[['Age','Sex','ChestPain','RestBP','Chol']]\n",
    "print('\\nSet 1\\n',set1.head()) "
   ]
  },
  {
   "cell_type": "code",
   "execution_count": 30,
   "metadata": {
    "colab": {
     "base_uri": "https://localhost:8080/"
    },
    "executionInfo": {
     "elapsed": 701,
     "status": "ok",
     "timestamp": 1662469024837,
     "user": {
      "displayName": "Harsh Ekbote",
      "userId": "12267371791678628924"
     },
     "user_tz": -330
    },
    "id": "SY8BXrmA21sW",
    "outputId": "94f91eee-623d-477d-9a44-005dce634107"
   },
   "outputs": [
    {
     "name": "stdout",
     "output_type": "stream",
     "text": [
      "\n",
      "Dataset set1 \n",
      "\n",
      "     Age  Sex     ChestPain  RestBP  Chol\n",
      "25    50    0    nonanginal     120   219\n",
      "235   54    1  asymptomatic     122   286\n",
      "21    58    0       typical     150   283\n",
      "264   61    1  asymptomatic     138   166\n",
      "77    51    0    nonanginal     140   308\n",
      "..   ...  ...           ...     ...   ...\n",
      "111   56    1  asymptomatic     125   249\n",
      "78    48    1    nontypical     130   245\n",
      "181   56    0  asymptomatic     134   409\n",
      "27    66    0       typical     150   226\n",
      "185   63    0    nontypical     140   195\n",
      "\n",
      "[227 rows x 5 columns]\n",
      "     Age  Sex     ChestPain  RestBP  Chol\n",
      "1     67    1  asymptomatic     160   286\n",
      "7     57    0  asymptomatic     120   354\n",
      "8     63    1  asymptomatic     130   254\n",
      "12    56    1    nonanginal     130   256\n",
      "19    49    1    nontypical     130   266\n",
      "..   ...  ...           ...     ...   ...\n",
      "290   67    1    nonanginal     152   212\n",
      "291   55    0    nontypical     132   342\n",
      "296   59    1  asymptomatic     164   176\n",
      "297   57    0  asymptomatic     140   241\n",
      "298   45    1       typical     110   264\n",
      "\n",
      "[76 rows x 5 columns]\n"
     ]
    }
   ],
   "source": [
    "#divide above df (set 1) into 75% and 25% randomly\n",
    "print(\"\\nDataset set1 \\n\")\n",
    "train2=set1.sample(frac=0.75)\n",
    "test2=set1.drop(train1.index)\n",
    "print(train2)\n",
    "print(test2)"
   ]
  },
  {
   "cell_type": "code",
   "execution_count": 23,
   "metadata": {
    "colab": {
     "base_uri": "https://localhost:8080/"
    },
    "executionInfo": {
     "elapsed": 2,
     "status": "ok",
     "timestamp": 1662469076248,
     "user": {
      "displayName": "Harsh Ekbote",
      "userId": "12267371791678628924"
     },
     "user_tz": -330
    },
    "id": "2B6ojTpQ0Ode",
    "outputId": "cd9a6d49-db24-41f1-f98b-a8d464647e68"
   },
   "outputs": [
    {
     "name": "stdout",
     "output_type": "stream",
     "text": [
      "(227, 14)\n",
      "(227,)\n",
      "(76, 14)\n",
      "(76,)\n"
     ]
    }
   ],
   "source": [
    "#sklearn train test split\n",
    "x=df.iloc[:, :-1].values\n",
    "y=df.iloc[:, -1].values\n",
    "x_train,x_test,y_train,y_test=train_test_split(x,y,test_size=0.25,random_state=0)\n",
    "print(x_train.shape)\n",
    "print(y_train.shape)\n",
    "print(x_test.shape)\n",
    "print(y_test.shape)"
   ]
  }
 ],
 "metadata": {
  "colab": {
   "authorship_tag": "ABX9TyObh6+I04bF5dmpwRKvJlk9",
   "collapsed_sections": [],
   "provenance": []
  },
  "kernelspec": {
   "display_name": "Python 3 (ipykernel)",
   "language": "python",
   "name": "python3"
  },
  "language_info": {
   "codemirror_mode": {
    "name": "ipython",
    "version": 3
   },
   "file_extension": ".py",
   "mimetype": "text/x-python",
   "name": "python",
   "nbconvert_exporter": "python",
   "pygments_lexer": "ipython3",
   "version": "3.10.6"
  }
 },
 "nbformat": 4,
 "nbformat_minor": 1
}
